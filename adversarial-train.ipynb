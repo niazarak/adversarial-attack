{
 "cells": [
  {
   "cell_type": "code",
   "execution_count": 1,
   "metadata": {},
   "outputs": [
    {
     "data": {
      "text/html": [
       "\n",
       "            <div id=\"spAmJK\"></div>\n",
       "            <script type=\"text/javascript\" data-lets-plot-script=\"library\">\n",
       "                if(!window.letsPlotCallQueue) {\n",
       "                    window.letsPlotCallQueue = [];\n",
       "                }; \n",
       "                window.letsPlotCall = function(f) {\n",
       "                    window.letsPlotCallQueue.push(f);\n",
       "                };\n",
       "                (function() {\n",
       "                    var script = document.createElement(\"script\");\n",
       "                    script.type = \"text/javascript\";\n",
       "                    script.src = \"https://dl.bintray.com/jetbrains/lets-plot/lets-plot-1.4.2.min.js\";\n",
       "                    script.onload = function() {\n",
       "                        window.letsPlotCall = function(f) {f();};\n",
       "                        window.letsPlotCallQueue.forEach(function(f) {f();});\n",
       "                        window.letsPlotCallQueue = [];\n",
       "                        \n",
       "                    };\n",
       "                    script.onerror = function(event) {\n",
       "                        window.letsPlotCall = function(f) {};    // noop\n",
       "                        window.letsPlotCallQueue = [];\n",
       "                        var div = document.createElement(\"div\");\n",
       "                        div.style.color = 'darkred';\n",
       "                        div.textContent = 'Error loading Lets-Plot JS';\n",
       "                        document.getElementById(\"spAmJK\").appendChild(div);\n",
       "                    };\n",
       "                    var e = document.getElementById(\"spAmJK\");\n",
       "                    e.appendChild(script);\n",
       "                })()\n",
       "            </script>\n",
       "            "
      ]
     },
     "metadata": {},
     "output_type": "display_data"
    }
   ],
   "source": [
    "import torchvision\n",
    "import torch\n",
    "import tqdm\n",
    "import numpy as np\n",
    "from torchvision.datasets import MNIST\n",
    "from torch import nn\n",
    "from torch.utils.data import DataLoader, TensorDataset, Dataset\n",
    "from torch.nn import CrossEntropyLoss\n",
    "from torch.optim import Adam\n",
    "from lets_plot import *\n",
    "\n",
    "import sklearn\n",
    "import sklearn.metrics\n",
    "\n",
    "import matplotlib.pyplot as plt\n",
    "LetsPlot.setup_html()"
   ]
  },
  {
   "cell_type": "code",
   "execution_count": 2,
   "metadata": {},
   "outputs": [],
   "source": [
    "import importlib\n",
    "\n",
    "import mnist\n",
    "import adversarial\n",
    "\n",
    "importlib.reload(mnist)\n",
    "importlib.reload(adversarial)\n",
    "\n",
    "from mnist import *\n",
    "from adversarial import *\n"
   ]
  },
  {
   "cell_type": "markdown",
   "metadata": {},
   "source": [
    "## Load the dataset"
   ]
  },
  {
   "cell_type": "code",
   "execution_count": 3,
   "metadata": {},
   "outputs": [],
   "source": [
    "\n",
    "mnist_train = load_data(train=True)\n",
    "mnist_test = load_data(train=False)\n",
    "\n",
    "train_dataset = MnistDataset(mnist_train)\n"
   ]
  },
  {
   "cell_type": "code",
   "execution_count": 4,
   "metadata": {},
   "outputs": [],
   "source": [
    "train_X = torch.stack([t[0] for t in mnist_train])\n",
    "train_y = torch.stack([t[1] for t in mnist_train])"
   ]
  },
  {
   "cell_type": "code",
   "execution_count": 5,
   "metadata": {},
   "outputs": [],
   "source": [
    "test_X = torch.stack([t[0] for t in mnist_test])\n",
    "test_y = torch.stack([t[1] for t in mnist_test])"
   ]
  },
  {
   "cell_type": "markdown",
   "metadata": {},
   "source": [
    "## Train the model"
   ]
  },
  {
   "cell_type": "code",
   "execution_count": 6,
   "metadata": {},
   "outputs": [],
   "source": [
    "model = MnistClassifier()\n"
   ]
  },
  {
   "cell_type": "code",
   "execution_count": 7,
   "metadata": {},
   "outputs": [
    {
     "name": "stderr",
     "output_type": "stream",
     "text": [
      "Loss: 1.4641: 100%|██████████| 938/938 [00:22<00:00, 41.81it/s]\n"
     ]
    }
   ],
   "source": [
    "loss_fct = CrossEntropyLoss()\n",
    "optimizer = Adam(model.parameters(), lr=0.01)\n",
    "\n",
    "epochs = 1\n",
    "\n",
    "train_loader = DataLoader(train_dataset, batch_size=64)\n",
    "\n",
    "for e in (range(epochs)):\n",
    "    model.train()\n",
    "    losses = []\n",
    "    \n",
    "    pbar = tqdm.tqdm(train_loader)\n",
    "    for batch in pbar:\n",
    "        optimizer.zero_grad()\n",
    "        out = model(batch['data'])\n",
    "        loss = loss_fct(out, batch['label'])\n",
    "        loss.backward()\n",
    "        \n",
    "        losses.append(loss.item())\n",
    "        pbar.set_description(f'Loss: {loss.item():.04f}')\n",
    "        \n",
    "        optimizer.step()\n",
    "        "
   ]
  },
  {
   "cell_type": "code",
   "execution_count": 8,
   "metadata": {},
   "outputs": [
    {
     "data": {
      "text/plain": [
       "[<matplotlib.lines.Line2D at 0x7f61bac002b0>]"
      ]
     },
     "execution_count": 8,
     "metadata": {},
     "output_type": "execute_result"
    },
    {
     "data": {
      "image/png": "[encoded data removed]",
      "text/plain": [
       "<Figure size 432x288 with 1 Axes>"
      ]
     },
     "metadata": {
      "needs_background": "light"
     },
     "output_type": "display_data"
    }
   ],
   "source": [
    "# ggplot({'X': list(range(len(losses))), 'Y': losses}) + geom_line(aes(x='X', y='Y'))\n",
    "plt.plot(losses)"
   ]
  },
  {
   "cell_type": "code",
   "execution_count": 9,
   "metadata": {},
   "outputs": [
    {
     "name": "stdout",
     "output_type": "stream",
     "text": [
      "              precision    recall  f1-score   support\n",
      "\n",
      "           0       0.99      0.98      0.99      5984\n",
      "           1       0.99      0.96      0.98      6968\n",
      "           2       0.96      0.97      0.97      5889\n",
      "           3       0.97      0.98      0.98      6090\n",
      "           4       0.98      0.97      0.98      5916\n",
      "           5       0.97      0.99      0.98      5362\n",
      "           6       0.99      0.99      0.99      5920\n",
      "           7       0.98      0.96      0.97      6386\n",
      "           8       0.95      0.98      0.96      5639\n",
      "           9       0.96      0.97      0.96      5846\n",
      "\n",
      "    accuracy                           0.98     60000\n",
      "   macro avg       0.98      0.98      0.98     60000\n",
      "weighted avg       0.98      0.98      0.98     60000\n",
      "\n"
     ]
    }
   ],
   "source": [
    "model.eval()\n",
    "train_pred = model(train_X)\n",
    "print(sklearn.metrics.classification_report(train_pred.argmax(dim=1).detach().numpy(), train_y))"
   ]
  },
  {
   "cell_type": "code",
   "execution_count": 10,
   "metadata": {},
   "outputs": [
    {
     "name": "stdout",
     "output_type": "stream",
     "text": [
      "              precision    recall  f1-score   support\n",
      "\n",
      "           0       0.99      0.97      0.98      1001\n",
      "           1       1.00      0.97      0.98      1168\n",
      "           2       0.96      0.98      0.97      1018\n",
      "           3       0.98      0.97      0.98      1016\n",
      "           4       0.98      0.98      0.98       987\n",
      "           5       0.98      0.98      0.98       885\n",
      "           6       0.98      0.99      0.99       944\n",
      "           7       0.97      0.97      0.97      1031\n",
      "           8       0.96      0.98      0.97       953\n",
      "           9       0.96      0.97      0.97       997\n",
      "\n",
      "    accuracy                           0.98     10000\n",
      "   macro avg       0.98      0.98      0.98     10000\n",
      "weighted avg       0.98      0.98      0.98     10000\n",
      "\n"
     ]
    }
   ],
   "source": [
    "model.eval()\n",
    "test_pred = model(test_X)\n",
    "print(sklearn.metrics.classification_report(test_pred.argmax(dim=1).detach().numpy(), test_y))"
   ]
  },
  {
   "cell_type": "markdown",
   "metadata": {},
   "source": [
    "## Sample and train adversarial examples"
   ]
  },
  {
   "cell_type": "code",
   "execution_count": 11,
   "metadata": {},
   "outputs": [],
   "source": [
    "adv_examples_count = 100\n",
    "adv_X, adv_y = train_X[:adv_examples_count], train_y[:adv_examples_count]\n",
    "adv_examples = train_adv_bim(model, CrossEntropyLoss(), adv_X.clone(), adv_y.clone())\n"
   ]
  },
  {
   "cell_type": "code",
   "execution_count": 12,
   "metadata": {},
   "outputs": [
    {
     "data": {
      "text/plain": [
       "(tensor([3, 6, 4, 4, 1, 8, 4, 2, 1, 1, 2, 6, 3, 5, 1, 9, 7, 1, 9, 7, 4, 6, 4, 4,\n",
       "         4, 3, 9, 3, 7, 8, 1, 1, 5, 1, 0, 3, 1, 6, 2, 0, 9, 1, 9, 4, 7, 4, 2, 3,\n",
       "         3, 5, 3, 5, 9, 7, 4, 9, 0, 4, 4, 4, 9, 7, 9, 9, 0, 3, 6, 9, 5, 8, 2, 9,\n",
       "         1, 1, 3, 8, 1, 4, 4, 1, 8, 0, 7, 2, 7, 4, 7, 7, 0, 7, 6, 7, 4, 8, 3, 0,\n",
       "         9, 1, 3, 7]),\n",
       " tensor([5, 0, 4, 1, 9, 2, 1, 3, 1, 4, 3, 5, 3, 6, 1, 7, 2, 8, 6, 9, 4, 0, 9, 1,\n",
       "         1, 2, 4, 3, 2, 7, 3, 8, 6, 9, 0, 5, 6, 0, 7, 6, 1, 8, 7, 9, 3, 9, 8, 5,\n",
       "         9, 3, 3, 0, 7, 4, 9, 8, 0, 9, 4, 1, 4, 4, 6, 0, 4, 5, 6, 1, 0, 0, 1, 7,\n",
       "         1, 6, 3, 0, 2, 1, 1, 7, 9, 0, 2, 6, 7, 8, 3, 9, 0, 4, 6, 7, 4, 6, 8, 0,\n",
       "         7, 8, 3, 1]))"
      ]
     },
     "execution_count": 12,
     "metadata": {},
     "output_type": "execute_result"
    }
   ],
   "source": [
    "model.eval()\n",
    "adv_pred = model(adv_examples).argmax(dim=1).detach()\n",
    "adv_pred, adv_y"
   ]
  },
  {
   "cell_type": "markdown",
   "metadata": {},
   "source": [
    "## Evaluate model on the real and adversarial datasets"
   ]
  },
  {
   "cell_type": "code",
   "execution_count": 13,
   "metadata": {},
   "outputs": [
    {
     "data": {
      "text/plain": [
       "<matplotlib.image.AxesImage at 0x7f61ac25bd30>"
      ]
     },
     "execution_count": 13,
     "metadata": {},
     "output_type": "execute_result"
    },
    {
     "data": {
      "image/png": "[encoded data removed]",
      "text/plain": [
       "<Figure size 432x288 with 1 Axes>"
      ]
     },
     "metadata": {
      "needs_background": "light"
     },
     "output_type": "display_data"
    }
   ],
   "source": [
    "real_pred = model(adv_X).argmax(dim=1).detach().numpy()\n",
    "conf = sklearn.metrics.confusion_matrix(real_pred, adv_y).astype(np.float)\n",
    "# ggplot() + geom_image(conf)\n",
    "plt.imshow(conf)"
   ]
  },
  {
   "cell_type": "code",
   "execution_count": 14,
   "metadata": {},
   "outputs": [
    {
     "name": "stdout",
     "output_type": "stream",
     "text": [
      "              precision    recall  f1-score   support\n",
      "\n",
      "           0       0.38      0.71      0.50         7\n",
      "           1       0.21      0.20      0.21        15\n",
      "           2       0.00      0.00      0.00         6\n",
      "           3       0.45      0.42      0.43        12\n",
      "           4       0.36      0.24      0.29        17\n",
      "           5       0.00      0.00      0.00         5\n",
      "           6       0.18      0.33      0.24         6\n",
      "           7       0.20      0.15      0.17        13\n",
      "           8       0.00      0.00      0.00         6\n",
      "           9       0.00      0.00      0.00        13\n",
      "\n",
      "    accuracy                           0.21       100\n",
      "   macro avg       0.18      0.21      0.18       100\n",
      "weighted avg       0.21      0.21      0.20       100\n",
      "\n"
     ]
    },
    {
     "data": {
      "text/plain": [
       "<matplotlib.image.AxesImage at 0x7f61ac049c50>"
      ]
     },
     "execution_count": 14,
     "metadata": {},
     "output_type": "execute_result"
    },
    {
     "data": {
      "image/png": "[encoded data removed]",
      "text/plain": [
       "<Figure size 432x288 with 1 Axes>"
      ]
     },
     "metadata": {
      "needs_background": "light"
     },
     "output_type": "display_data"
    }
   ],
   "source": [
    "print(sklearn.metrics.classification_report(adv_pred.numpy(), adv_y))\n",
    "conf = sklearn.metrics.confusion_matrix(adv_pred.numpy(), adv_y).astype(np.float)\n",
    "# ggplot() + geom_image(conf)\n",
    "plt.imshow(conf)"
   ]
  },
  {
   "cell_type": "code",
   "execution_count": 15,
   "metadata": {},
   "outputs": [
    {
     "data": {
      "text/plain": [
       "<matplotlib.image.AxesImage at 0x7f61a07ec6d8>"
      ]
     },
     "execution_count": 15,
     "metadata": {},
     "output_type": "execute_result"
    },
    {
     "data": {
      "image/png": "[encoded data removed]",
      "text/plain": [
       "<Figure size 432x288 with 1 Axes>"
      ]
     },
     "metadata": {
      "needs_background": "light"
     },
     "output_type": "display_data"
    }
   ],
   "source": [
    "# ggplot() + geom_image(adv_X[1].numpy().reshape(28, 28))\n",
    "plt.imshow(adv_X[1].numpy().reshape(28, 28))"
   ]
  },
  {
   "cell_type": "code",
   "execution_count": 16,
   "metadata": {},
   "outputs": [
    {
     "data": {
      "text/plain": [
       "<matplotlib.image.AxesImage at 0x7f61a0746e10>"
      ]
     },
     "execution_count": 16,
     "metadata": {},
     "output_type": "execute_result"
    },
    {
     "data": {
      "image/png": "[encoded data removed]",
      "text/plain": [
       "<Figure size 432x288 with 1 Axes>"
      ]
     },
     "metadata": {
      "needs_background": "light"
     },
     "output_type": "display_data"
    }
   ],
   "source": [
    "# ggplot() + geom_image(adv_examples[1].numpy().reshape(28, 28))\n",
    "plt.imshow(adv_examples[1].numpy().reshape(28, 28))"
   ]
  },
  {
   "cell_type": "code",
   "execution_count": null,
   "metadata": {},
   "outputs": [],
   "source": []
  }
 ],
 "metadata": {
  "kernelspec": {
   "display_name": "Python 3",
   "language": "python",
   "name": "python3"
  },
  "language_info": {
   "codemirror_mode": {
    "name": "ipython",
    "version": 3
   },
   "file_extension": ".py",
   "mimetype": "text/x-python",
   "name": "python",
   "nbconvert_exporter": "python",
   "pygments_lexer": "ipython3",
   "version": "3.6.9"
  },
  "pycharm": {
   "stem_cell": {
    "cell_type": "raw",
    "metadata": {
     "collapsed": false
    },
    "source": []
   }
  }
 },
 "nbformat": 4,
 "nbformat_minor": 4
}
